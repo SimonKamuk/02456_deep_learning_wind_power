{
 "cells": [
  {
   "cell_type": "code",
   "execution_count": 1,
   "metadata": {},
   "outputs": [
    {
     "name": "stdout",
     "output_type": "stream",
     "text": [
      "Measurement 1\n",
      "Measurement 2\n",
      "Measurement 3\n",
      "NWP 1\n",
      "NWP 2\n",
      "NWP 3\n",
      "torch.Size([182918, 16])\n",
      "torch.Size([147205, 1])\n"
     ]
    }
   ],
   "source": [
    "import pandas as pd\n",
    "import os\n",
    "import matplotlib.pyplot as plt\n",
    "import numpy as np\n",
    "\n",
    "import torch\n",
    "import torch.nn as nn\n",
    "import torch.nn.functional as F\n",
    "import torch.optim as optim\n",
    "import torch.nn.init as init\n",
    "\n",
    "np.random.seed(2021)\n",
    "\n",
    "data_loc = '/Users/simon/Documents/DTU/9. semester/deep learning/data'\n",
    "\n",
    "df_all = []\n",
    "\n",
    "files = os.listdir(os.path.join(data_loc,'modified data'))\n",
    "for file in sorted(files):\n",
    "    path = os.path.join(data_loc,'modified data',file)\n",
    "    name, ext = os.path.splitext(file)\n",
    "    if ext != '.csv':\n",
    "        continue\n",
    "    df = pd.read_csv(path)\n",
    "    df.name = name\n",
    "    \n",
    "    for col_name in df.columns:\n",
    "        if col_name != 'Date_Time':\n",
    "            df[col_name]=df[col_name].astype('float64')\n",
    "        else:\n",
    "            df['Date_Time'] = pd.to_datetime(df['Date_Time'])\n",
    "    \n",
    "    df_all.append(df)\n",
    "    print(name)\n",
    "\n",
    "case=1\n",
    "\n",
    "y = torch.Tensor(df_all[case-1]['Park Power [KW]'].values[:,None])\n",
    "y_time = df_all[case-1]['Date_Time']\n",
    "x = torch.Tensor(df_all[case+2].iloc[:,1:].values)\n",
    "x_time = df_all[case+2]['Date_Time']\n",
    "\n",
    "print(x.shape)\n",
    "print(y.shape)\n",
    "\n",
    "del df_all\n",
    "del df"
   ]
  },
  {
   "cell_type": "code",
   "execution_count": 2,
   "metadata": {},
   "outputs": [],
   "source": [
    "# make sure all time differences are equal\n",
    "assert x_time.diff().min()==x_time.diff().max()\n",
    "assert y_time.diff().min()==y_time.diff().max()\n",
    "assert x_time.diff().min()==y_time.diff().min()\n",
    "# check that training and target data end at the same time\n",
    "assert y_time.iloc[-1]==x_time.iloc[-1]\n",
    "\n",
    "# Time difference between start of training and target data, and corresponding offset in indecies\n",
    "time_dif = (y_time.iloc[0]-x_time.iloc[0])\n",
    "idx_offset = time_dif.days*24*4+round(time_dif.seconds/(60*15))\n",
    "\n",
    "# Index offset between start and end of training data for one single prediction\n",
    "# i.e. number of quarters of an hour we wish to train on for each sample\n",
    "idx_train_len = 3*4+1\n",
    "\n",
    "#i=1000\n",
    "#print(target_time[i])\n",
    "#print(x_time[i+idx_offset-idx_train_len+1:i+idx_offset+1])\n",
    "\n",
    "good_idx = []\n",
    "for i in range(y.shape[0]):\n",
    "    if not (torch.isnan(y[i]) or torch.any(torch.isnan(x[i+idx_offset-idx_train_len+1:i+idx_offset+1]))):\n",
    "        good_idx.append(i)\n",
    "good_idx = np.array(good_idx)"
   ]
  },
  {
   "cell_type": "code",
   "execution_count": 3,
   "metadata": {
    "scrolled": true
   },
   "outputs": [
    {
     "name": "stdout",
     "output_type": "stream",
     "text": [
      "torch.Size([182918, 16])\n",
      "torch.Size([147205, 1])\n",
      "182918\n",
      "147205\n",
      "2016-01-01 20:00:00\n",
      "2017-01-07 20:15:00\n",
      "138861\n"
     ]
    }
   ],
   "source": [
    "print(x.shape)\n",
    "print(y.shape)\n",
    "print(len(x_time))\n",
    "print(len(y_time))\n",
    "print(x_time[0])\n",
    "print(y_time[0])\n",
    "print(len(good_idx))"
   ]
  },
  {
   "cell_type": "code",
   "execution_count": 4,
   "metadata": {},
   "outputs": [
    {
     "name": "stdout",
     "output_type": "stream",
     "text": [
      "Net(\n",
      "  (lstm): LSTM(16, 50, batch_first=True)\n",
      "  (act): ReLU()\n",
      "  (l_out): Linear(in_features=50, out_features=1, bias=False)\n",
      ")\n"
     ]
    }
   ],
   "source": [
    "input_size = x.shape[1]\n",
    "hidden_size = 50\n",
    "out_size = 1\n",
    "\n",
    "\n",
    "# define network\n",
    "class Net(nn.Module):\n",
    "\n",
    "    def __init__(self, input_size, hidden_size, out_size):\n",
    "        super(Net, self).__init__()  \n",
    "        \n",
    "        \n",
    "        self.lstm = nn.LSTM(input_size=input_size,\n",
    "                            hidden_size=hidden_size,\n",
    "                            batch_first=True, # batch_size x sequence_length x input_size\n",
    "                            bias=True)\n",
    "        self.act = nn.ReLU()\n",
    "        self.l_out = nn.Linear(in_features=hidden_size,\n",
    "                               out_features=out_size,\n",
    "                               bias=False)\n",
    "        \n",
    "        \n",
    "    def forward(self, x):\n",
    "        x, (h, c) = self.lstm(x)\n",
    "        x = x[:, -1, :]\n",
    "        x = self.act(x)\n",
    "        x = self.l_out(x)\n",
    "        return x\n",
    "\n",
    "\n",
    "net = Net(input_size, hidden_size, out_size)\n",
    "print(net)\n",
    "\n",
    "optimizer = optim.Adam(net.parameters())\n",
    "loss = nn.MSELoss()"
   ]
  },
  {
   "cell_type": "code",
   "execution_count": 5,
   "metadata": {},
   "outputs": [
    {
     "name": "stdout",
     "output_type": "stream",
     "text": [
      "Epoch  0 : Train Loss 433486284.800000 , Valid Loss 433755232.000000\n",
      "Epoch  1 : Train Loss 433480089.600000 , Valid Loss 433747648.000000\n",
      "Epoch  2 : Train Loss 433470412.800000 , Valid Loss 433735168.000000\n",
      "Epoch  3 : Train Loss 433455308.800000 , Valid Loss 433717504.000000\n",
      "Epoch  4 : Train Loss 433436620.800000 , Valid Loss 433698624.000000\n",
      "Epoch  5 : Train Loss 433418854.400000 , Valid Loss 433682304.000000\n",
      "Epoch  6 : Train Loss 433402982.400000 , Valid Loss 433666816.000000\n",
      "Epoch  7 : Train Loss 433388441.600000 , Valid Loss 433653856.000000\n",
      "Epoch  8 : Train Loss 433376051.200000 , Valid Loss 433641792.000000\n",
      "Epoch  9 : Train Loss 433364582.400000 , Valid Loss 433631616.000000\n"
     ]
    }
   ],
   "source": [
    "# setting hyperparameters and gettings epoch sizes\n",
    "batch_size = 10000\n",
    "num_epochs = 10\n",
    "\n",
    "num_good = len(good_idx)\n",
    "np.random.shuffle(good_idx)\n",
    "k_fold_size = 5\n",
    "in_valid_bool = np.zeros(num_good, dtype=bool)\n",
    "in_train_bool = np.zeros(num_good, dtype=bool)\n",
    "\n",
    "\n",
    "#use Stacked Cross-Validation for check appropriate dataset length\n",
    "def get_stacked_cv_idx(k):\n",
    "    in_valid_bool.fill(0)\n",
    "    in_train_bool.fill(0)\n",
    "    in_valid_bool[(1+k)*num_good//k_fold_size : (2+k)*num_good//k_fold_size] = 1\n",
    "    in_train_bool[:(1+k)*num_good//k_fold_size] = 1\n",
    "    valid_idx = good_idx[in_valid_bool]\n",
    "    train_idx = good_idx[in_train_bool]\n",
    "    return valid_idx, train_idx\n",
    "\n",
    "def get_k_fold_cv_idx(k):\n",
    "    in_valid_bool.fill(0)\n",
    "    in_valid_bool[k*y.shape[0]//k_fold_size : (k+1)*y.shape[0]//k_fold_size] = 1\n",
    "    in_train_bool = np.logical_not(in_valid_bool)\n",
    "    valid_idx = good_idx[in_valid_bool]\n",
    "    train_idx = good_idx[in_train_bool]\n",
    "    return valid_idx, train_idx\n",
    "\n",
    "def get_slice(batch_idx, batch_size): \n",
    "    return range(batch_idx * batch_size, (batch_idx + 1) * batch_size)\n",
    "\n",
    "def get_x_sequences(idx, x_stacked):\n",
    "    for i in range(len(idx)):\n",
    "        x_stacked[i, :, :] = x[idx[i]+idx_offset-idx_train_len+1:idx[i]+idx_offset+1, :]\n",
    "    x_stacked\n",
    "\n",
    "fold=0\n",
    "valid_idx, train_idx = get_k_fold_cv_idx(fold)\n",
    "\n",
    "num_samples_train = train_idx.shape[0]\n",
    "num_batches_train = num_samples_train // batch_size\n",
    "num_samples_valid = valid_idx.shape[0]\n",
    "num_batches_valid = num_samples_valid // batch_size\n",
    "\n",
    "x_input = torch.zeros(batch_size, idx_train_len, input_size)\n",
    "\n",
    "# setting up lists for handling loss/accuracy\n",
    "train_loss = []\n",
    "valid_loss = []\n",
    "cur_loss = 0\n",
    "\n",
    "for epoch in range(num_epochs):\n",
    "    ## Training\n",
    "    # Forward -> Backprob -> Update params\n",
    "    net.train()\n",
    "    cur_loss = 0\n",
    "    for i in range(num_batches_train):\n",
    "        optimizer.zero_grad()\n",
    "        slce = get_slice(i, batch_size)\n",
    "\n",
    "        get_x_sequences(train_idx[slce], x_input)\n",
    "        \n",
    "        output = net(x_input)\n",
    "\n",
    "        # compute gradients given loss\n",
    "        batch_loss = loss(output, y[train_idx[slce]])\n",
    "        batch_loss.backward()\n",
    "        optimizer.step()\n",
    "        \n",
    "        cur_loss += batch_loss   \n",
    "    train_loss.append(cur_loss.detach().numpy() / num_batches_train)\n",
    "\n",
    "    ## Validation\n",
    "    net.eval()\n",
    "    cur_loss = 0\n",
    "    for i in range(num_batches_valid):\n",
    "        slce = get_slice(i, batch_size)\n",
    "        \n",
    "        get_x_sequences(valid_idx[slce], x_input)\n",
    "        \n",
    "        output = net(x_input)\n",
    "        \n",
    "        # compute gradients given loss\n",
    "        batch_loss = loss(output, y[valid_idx[slce]])\n",
    "        \n",
    "        cur_loss += batch_loss   \n",
    "    valid_loss.append(cur_loss.detach().numpy() / num_batches_valid)\n",
    "        \n",
    "\n",
    "    \n",
    "    if epoch % (num_epochs//10) == 0:\n",
    "        print(\"Epoch %2i : Train Loss %f , Valid Loss %f\" % (\n",
    "                epoch, train_loss[-1], valid_loss[-1]))\n",
    "\n",
    "        "
   ]
  },
  {
   "cell_type": "code",
   "execution_count": 6,
   "metadata": {},
   "outputs": [
    {
     "data": {
      "image/png": "[encoded data removed]",
      "text/plain": [
       "<Figure size 432x288 with 1 Axes>"
      ]
     },
     "metadata": {
      "needs_background": "light"
     },
     "output_type": "display_data"
    }
   ],
   "source": [
    "epoch = np.arange(len(train_loss))\n",
    "plt.figure()\n",
    "plt.plot(epoch, train_loss, 'r', epoch, valid_loss, 'b')\n",
    "plt.legend(['Train Loss','Validation Loss'])\n",
    "plt.xlabel('Updates'), plt.ylabel('Loss')\n",
    "plt.show()"
   ]
  },
  {
   "cell_type": "code",
   "execution_count": null,
   "metadata": {},
   "outputs": [],
   "source": []
  },
  {
   "cell_type": "code",
   "execution_count": null,
   "metadata": {},
   "outputs": [],
   "source": []
  },
  {
   "cell_type": "code",
   "execution_count": null,
   "metadata": {},
   "outputs": [],
   "source": []
  }
 ],
 "metadata": {
  "kernelspec": {
   "display_name": "tf_3_7",
   "language": "python",
   "name": "tf_3_7"
  },
  "language_info": {
   "codemirror_mode": {
    "name": "ipython",
    "version": 3
   },
   "file_extension": ".py",
   "mimetype": "text/x-python",
   "name": "python",
   "nbconvert_exporter": "python",
   "pygments_lexer": "ipython3",
   "version": "3.7.11"
  }
 },
 "nbformat": 4,
 "nbformat_minor": 4
}
